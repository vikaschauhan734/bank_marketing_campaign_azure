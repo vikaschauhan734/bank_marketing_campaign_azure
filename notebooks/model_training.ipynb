{
 "cells": [
  {
   "cell_type": "code",
   "execution_count": 1,
   "metadata": {},
   "outputs": [],
   "source": [
    "import numpy as np\n",
    "import pandas as pd\n",
    "from sklearn.preprocessing import StandardScaler\n",
    "import warnings\n",
    "warnings.filterwarnings('ignore')"
   ]
  },
  {
   "cell_type": "code",
   "execution_count": 2,
   "metadata": {},
   "outputs": [],
   "source": [
    "from sklearn.model_selection import train_test_split"
   ]
  },
  {
   "cell_type": "code",
   "execution_count": 3,
   "metadata": {},
   "outputs": [
    {
     "data": {
      "text/plain": [
       "(73074, 48)"
      ]
     },
     "execution_count": 3,
     "metadata": {},
     "output_type": "execute_result"
    }
   ],
   "source": [
    "df = pd.read_csv(\"cleaned dataset.csv\")\n",
    "df.shape"
   ]
  },
  {
   "cell_type": "code",
   "execution_count": 4,
   "metadata": {},
   "outputs": [],
   "source": [
    "X = df.drop('y',axis=1)"
   ]
  },
  {
   "cell_type": "code",
   "execution_count": 5,
   "metadata": {},
   "outputs": [],
   "source": [
    "y=df['y']"
   ]
  },
  {
   "cell_type": "code",
   "execution_count": 6,
   "metadata": {},
   "outputs": [],
   "source": [
    "scaler = StandardScaler()\n",
    "X =scaler.fit_transform(X)"
   ]
  },
  {
   "cell_type": "code",
   "execution_count": 9,
   "metadata": {},
   "outputs": [
    {
     "data": {
      "text/plain": [
       "((58459, 47), (14615, 47))"
      ]
     },
     "execution_count": 9,
     "metadata": {},
     "output_type": "execute_result"
    }
   ],
   "source": [
    "X_train, X_test, y_train, y_test = train_test_split(X, y, test_size=0.2, random_state=42)\n",
    "X_train.shape, X_test.shape"
   ]
  },
  {
   "cell_type": "code",
   "execution_count": 19,
   "metadata": {},
   "outputs": [],
   "source": [
    "from sklearn.metrics import classification_report, confusion_matrix, precision_score, recall_score, accuracy_score, f1_score\n",
    "from sklearn.linear_model import LogisticRegression\n",
    "from sklearn.svm import SVC\n",
    "from sklearn.tree import DecisionTreeClassifier\n",
    "from sklearn.ensemble import RandomForestClassifier, AdaBoostClassifier, GradientBoostingClassifier, BaggingClassifier\n",
    "from sklearn.naive_bayes import GaussianNB, MultinomialNB"
   ]
  },
  {
   "cell_type": "code",
   "execution_count": 38,
   "metadata": {},
   "outputs": [],
   "source": [
    "models = {\n",
    "    \"Logistic Regression\": LogisticRegression(),\n",
    "    \"SVC\": SVC(),\n",
    "    \"Decision Tree Classifier\": DecisionTreeClassifier(),\n",
    "    \"Random Forest Classifier\": RandomForestClassifier(),\n",
    "    \"Ada Boost Classifier\": AdaBoostClassifier(),\n",
    "    \"Gradient Boosting Classifier\": GradientBoostingClassifier(),\n",
    "    \"Bagging Classifier\": BaggingClassifier(),\n",
    "    \"GaussianNB\": GaussianNB()\n",
    "}"
   ]
  },
  {
   "cell_type": "code",
   "execution_count": 39,
   "metadata": {},
   "outputs": [],
   "source": [
    "def evaluate_model(true, predicted):\n",
    "    ps = precision_score(true, predicted)\n",
    "    rs = recall_score(true, predicted)\n",
    "    f1 = f1_score(true, predicted)\n",
    "    acc = accuracy_score(true, predicted)\n",
    "    return round(ps,4), round(rs,4), round(f1,4), round(acc,4)"
   ]
  },
  {
   "cell_type": "code",
   "execution_count": 40,
   "metadata": {},
   "outputs": [],
   "source": [
    "model_list = []\n",
    "f1_list = []"
   ]
  },
  {
   "cell_type": "code",
   "execution_count": 41,
   "metadata": {},
   "outputs": [
    {
     "name": "stdout",
     "output_type": "stream",
     "text": [
      "Logistic Regression\n",
      "Model performance for Training set\n",
      "Precision:0.9396 Recall:0.9283 f1-score:0.9339 accuracy:0.9342\n",
      "------------------------------------------------\n",
      "Model performance for Test set\n",
      "Precision:0.9402 Recall:0.9267 f1-score:0.9334 accuracy:0.9342\n",
      "=================================================\n",
      "\n",
      "\n",
      "SVC\n",
      "Model performance for Training set\n",
      "Precision:0.9641 Recall:0.9455 f1-score:0.9547 accuracy:0.9551\n",
      "------------------------------------------------\n",
      "Model performance for Test set\n",
      "Precision:0.9514 Recall:0.9264 f1-score:0.9387 accuracy:0.9399\n",
      "=================================================\n",
      "\n",
      "\n",
      "Decision Tree Classifier\n",
      "Model performance for Training set\n",
      "Precision:1.0 Recall:1.0 f1-score:1.0 accuracy:1.0\n",
      "------------------------------------------------\n",
      "Model performance for Test set\n",
      "Precision:0.9244 Recall:0.9342 f1-score:0.9293 accuracy:0.9293\n",
      "=================================================\n",
      "\n",
      "\n",
      "Random Forest Classifier\n",
      "Model performance for Training set\n",
      "Precision:1.0 Recall:1.0 f1-score:1.0 accuracy:1.0\n",
      "------------------------------------------------\n",
      "Model performance for Test set\n",
      "Precision:0.9503 Recall:0.9496 f1-score:0.95 accuracy:0.9503\n",
      "=================================================\n",
      "\n",
      "\n",
      "Ada Boost Classifier\n",
      "Model performance for Training set\n",
      "Precision:0.9325 Recall:0.9293 f1-score:0.9309 accuracy:0.931\n",
      "------------------------------------------------\n",
      "Model performance for Test set\n",
      "Precision:0.9388 Recall:0.9268 f1-score:0.9328 accuracy:0.9336\n",
      "=================================================\n",
      "\n",
      "\n",
      "Gradient Boosting Classifier\n",
      "Model performance for Training set\n",
      "Precision:0.9233 Recall:0.955 f1-score:0.9389 accuracy:0.9378\n",
      "------------------------------------------------\n",
      "Model performance for Test set\n",
      "Precision:0.9231 Recall:0.951 f1-score:0.9368 accuracy:0.9362\n",
      "=================================================\n",
      "\n",
      "\n",
      "Bagging Classifier\n",
      "Model performance for Training set\n",
      "Precision:0.998 Recall:0.9956 f1-score:0.9968 accuracy:0.9968\n",
      "------------------------------------------------\n",
      "Model performance for Test set\n",
      "Precision:0.9473 Recall:0.94 f1-score:0.9436 accuracy:0.9442\n",
      "=================================================\n",
      "\n",
      "\n",
      "GaussianNB\n",
      "Model performance for Training set\n",
      "Precision:0.766 Recall:0.9321 f1-score:0.841 accuracy:0.8235\n",
      "------------------------------------------------\n",
      "Model performance for Test set\n",
      "Precision:0.763 Recall:0.9323 f1-score:0.8392 accuracy:0.8224\n",
      "=================================================\n",
      "\n",
      "\n"
     ]
    }
   ],
   "source": [
    "for i in range(len(list(models))):\n",
    "    model = list (models.values())[i]\n",
    "    model.fit(X_train, y_train)\n",
    "    y_train_pred = model.predict(X_train)\n",
    "    y_test_pred = model.predict(X_test)\n",
    "\n",
    "    train_precision, train_recall, train_f1, train_accuracy = evaluate_model(y_train, y_train_pred)\n",
    "    test_precision, test_recall, test_f1, test_accuracy = evaluate_model(y_test, y_test_pred)\n",
    "\n",
    "    print(list(models.keys())[i])\n",
    "    model_list.append(list(models.keys())[i])\n",
    "\n",
    "    print('Model performance for Training set')\n",
    "    print(f\"Precision:{train_precision} Recall:{train_recall} f1-score:{train_f1} accuracy:{train_accuracy}\")\n",
    "    print(\"------------------------------------------------\")\n",
    "    print('Model performance for Test set')\n",
    "    print(f\"Precision:{test_precision} Recall:{test_recall} f1-score:{test_f1} accuracy:{test_accuracy}\")\n",
    "    f1_list.append(test_f1)\n",
    "    print(\"=================================================\")\n",
    "    print('\\n')\n"
   ]
  },
  {
   "cell_type": "code",
   "execution_count": 44,
   "metadata": {},
   "outputs": [
    {
     "data": {
      "text/html": [
       "<div>\n",
       "<style scoped>\n",
       "    .dataframe tbody tr th:only-of-type {\n",
       "        vertical-align: middle;\n",
       "    }\n",
       "\n",
       "    .dataframe tbody tr th {\n",
       "        vertical-align: top;\n",
       "    }\n",
       "\n",
       "    .dataframe thead th {\n",
       "        text-align: right;\n",
       "    }\n",
       "</style>\n",
       "<table border=\"1\" class=\"dataframe\">\n",
       "  <thead>\n",
       "    <tr style=\"text-align: right;\">\n",
       "      <th></th>\n",
       "      <th>Model Name</th>\n",
       "      <th>f1_score</th>\n",
       "    </tr>\n",
       "  </thead>\n",
       "  <tbody>\n",
       "    <tr>\n",
       "      <th>3</th>\n",
       "      <td>Random Forest Classifier</td>\n",
       "      <td>0.9500</td>\n",
       "    </tr>\n",
       "    <tr>\n",
       "      <th>6</th>\n",
       "      <td>Bagging Classifier</td>\n",
       "      <td>0.9436</td>\n",
       "    </tr>\n",
       "    <tr>\n",
       "      <th>1</th>\n",
       "      <td>SVC</td>\n",
       "      <td>0.9387</td>\n",
       "    </tr>\n",
       "    <tr>\n",
       "      <th>5</th>\n",
       "      <td>Gradient Boosting Classifier</td>\n",
       "      <td>0.9368</td>\n",
       "    </tr>\n",
       "    <tr>\n",
       "      <th>0</th>\n",
       "      <td>Logistic Regression</td>\n",
       "      <td>0.9334</td>\n",
       "    </tr>\n",
       "    <tr>\n",
       "      <th>4</th>\n",
       "      <td>Ada Boost Classifier</td>\n",
       "      <td>0.9328</td>\n",
       "    </tr>\n",
       "    <tr>\n",
       "      <th>2</th>\n",
       "      <td>Decision Tree Classifier</td>\n",
       "      <td>0.9293</td>\n",
       "    </tr>\n",
       "    <tr>\n",
       "      <th>7</th>\n",
       "      <td>GaussianNB</td>\n",
       "      <td>0.8392</td>\n",
       "    </tr>\n",
       "  </tbody>\n",
       "</table>\n",
       "</div>"
      ],
      "text/plain": [
       "                     Model Name  f1_score\n",
       "3      Random Forest Classifier    0.9500\n",
       "6            Bagging Classifier    0.9436\n",
       "1                           SVC    0.9387\n",
       "5  Gradient Boosting Classifier    0.9368\n",
       "0           Logistic Regression    0.9334\n",
       "4          Ada Boost Classifier    0.9328\n",
       "2      Decision Tree Classifier    0.9293\n",
       "7                    GaussianNB    0.8392"
      ]
     },
     "execution_count": 44,
     "metadata": {},
     "output_type": "execute_result"
    }
   ],
   "source": [
    "pred_df = pd.DataFrame(list(zip(model_list, f1_list)), columns=['Model Name', 'f1_score']).sort_values(by=['f1_score'],ascending=False)\n",
    "pred_df"
   ]
  },
  {
   "cell_type": "code",
   "execution_count": null,
   "metadata": {},
   "outputs": [],
   "source": []
  }
 ],
 "metadata": {
  "kernelspec": {
   "display_name": ".venv",
   "language": "python",
   "name": "python3"
  },
  "language_info": {
   "codemirror_mode": {
    "name": "ipython",
    "version": 3
   },
   "file_extension": ".py",
   "mimetype": "text/x-python",
   "name": "python",
   "nbconvert_exporter": "python",
   "pygments_lexer": "ipython3",
   "version": "3.11.5"
  }
 },
 "nbformat": 4,
 "nbformat_minor": 2
}
